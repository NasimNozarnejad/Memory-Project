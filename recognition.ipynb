{
 "cells": [
  {
   "cell_type": "code",
   "execution_count": 1,
   "metadata": {},
   "outputs": [
    {
     "name": "stderr",
     "output_type": "stream",
     "text": [
      "C:\\Users\\sasan\\Anaconda3\\lib\\site-packages\\ipykernel\\parentpoller.py:116: UserWarning: Parent poll failed.  If the frontend dies,\n",
      "                the kernel may be left running.  Please let us know\n",
      "                about your system (bitness, Python, etc.) at\n",
      "                ipython-dev@scipy.org\n",
      "  ipython-dev@scipy.org\"\"\")\n"
     ]
    }
   ],
   "source": [
    "%matplotlib inline\n",
    "import numpy as np\n",
    "import pandas as pd\n",
    "import pylab as plt\n"
   ]
  },
  {
   "cell_type": "code",
   "execution_count": 2,
   "metadata": {},
   "outputs": [
    {
     "data": {
      "text/html": [
       "<div>\n",
       "<style scoped>\n",
       "    .dataframe tbody tr th:only-of-type {\n",
       "        vertical-align: middle;\n",
       "    }\n",
       "\n",
       "    .dataframe tbody tr th {\n",
       "        vertical-align: top;\n",
       "    }\n",
       "\n",
       "    .dataframe thead th {\n",
       "        text-align: right;\n",
       "    }\n",
       "</style>\n",
       "<table border=\"1\" class=\"dataframe\">\n",
       "  <thead>\n",
       "    <tr style=\"text-align: right;\">\n",
       "      <th></th>\n",
       "      <th>trial</th>\n",
       "      <th>type</th>\n",
       "      <th>wf</th>\n",
       "      <th>response</th>\n",
       "      <th>RT</th>\n",
       "      <th>correct</th>\n",
       "      <th>subj</th>\n",
       "      <th>length</th>\n",
       "      <th>delay</th>\n",
       "      <th>block</th>\n",
       "    </tr>\n",
       "  </thead>\n",
       "  <tbody>\n",
       "    <tr>\n",
       "      <th>0</th>\n",
       "      <td>0</td>\n",
       "      <td>lure</td>\n",
       "      <td>HF</td>\n",
       "      <td>0</td>\n",
       "      <td>1.676</td>\n",
       "      <td>1</td>\n",
       "      <td>0</td>\n",
       "      <td>Long</td>\n",
       "      <td>Immed</td>\n",
       "      <td>b0</td>\n",
       "    </tr>\n",
       "    <tr>\n",
       "      <th>1</th>\n",
       "      <td>1</td>\n",
       "      <td>lure</td>\n",
       "      <td>LF</td>\n",
       "      <td>0</td>\n",
       "      <td>0.913</td>\n",
       "      <td>1</td>\n",
       "      <td>0</td>\n",
       "      <td>Long</td>\n",
       "      <td>Immed</td>\n",
       "      <td>b0</td>\n",
       "    </tr>\n",
       "    <tr>\n",
       "      <th>2</th>\n",
       "      <td>2</td>\n",
       "      <td>lure</td>\n",
       "      <td>HF</td>\n",
       "      <td>0</td>\n",
       "      <td>0.809</td>\n",
       "      <td>1</td>\n",
       "      <td>0</td>\n",
       "      <td>Long</td>\n",
       "      <td>Immed</td>\n",
       "      <td>b0</td>\n",
       "    </tr>\n",
       "    <tr>\n",
       "      <th>3</th>\n",
       "      <td>3</td>\n",
       "      <td>target</td>\n",
       "      <td>HF</td>\n",
       "      <td>1</td>\n",
       "      <td>0.865</td>\n",
       "      <td>1</td>\n",
       "      <td>0</td>\n",
       "      <td>Long</td>\n",
       "      <td>Immed</td>\n",
       "      <td>b0</td>\n",
       "    </tr>\n",
       "    <tr>\n",
       "      <th>4</th>\n",
       "      <td>4</td>\n",
       "      <td>target</td>\n",
       "      <td>LF</td>\n",
       "      <td>1</td>\n",
       "      <td>0.681</td>\n",
       "      <td>1</td>\n",
       "      <td>0</td>\n",
       "      <td>Long</td>\n",
       "      <td>Immed</td>\n",
       "      <td>b0</td>\n",
       "    </tr>\n",
       "  </tbody>\n",
       "</table>\n",
       "</div>"
      ],
      "text/plain": [
       "   trial    type  wf  response     RT  correct  subj length  delay block\n",
       "0      0    lure  HF         0  1.676        1     0   Long  Immed    b0\n",
       "1      1    lure  LF         0  0.913        1     0   Long  Immed    b0\n",
       "2      2    lure  HF         0  0.809        1     0   Long  Immed    b0\n",
       "3      3  target  HF         1  0.865        1     0   Long  Immed    b0\n",
       "4      4  target  LF         1  0.681        1     0   Long  Immed    b0"
      ]
     },
     "execution_count": 2,
     "metadata": {},
     "output_type": "execute_result"
    }
   ],
   "source": [
    "df=pd.read_csv('exp1testing.csv')\n",
    "df.head()"
   ]
  },
  {
   "cell_type": "code",
   "execution_count": 3,
   "metadata": {},
   "outputs": [
    {
     "data": {
      "text/plain": [
       "array(['Immed', 'Delay'], dtype=object)"
      ]
     },
     "execution_count": 3,
     "metadata": {},
     "output_type": "execute_result"
    }
   ],
   "source": [
    "df['delay'].unique()"
   ]
  },
  {
   "cell_type": "code",
   "execution_count": 4,
   "metadata": {},
   "outputs": [
    {
     "data": {
      "text/html": [
       "<div>\n",
       "<style scoped>\n",
       "    .dataframe tbody tr th:only-of-type {\n",
       "        vertical-align: middle;\n",
       "    }\n",
       "\n",
       "    .dataframe tbody tr th {\n",
       "        vertical-align: top;\n",
       "    }\n",
       "\n",
       "    .dataframe thead th {\n",
       "        text-align: right;\n",
       "    }\n",
       "</style>\n",
       "<table border=\"1\" class=\"dataframe\">\n",
       "  <thead>\n",
       "    <tr style=\"text-align: right;\">\n",
       "      <th></th>\n",
       "      <th>trial</th>\n",
       "      <th>type</th>\n",
       "      <th>wf</th>\n",
       "      <th>response</th>\n",
       "      <th>RT</th>\n",
       "      <th>correct</th>\n",
       "      <th>subj</th>\n",
       "      <th>length</th>\n",
       "      <th>delay</th>\n",
       "      <th>block</th>\n",
       "    </tr>\n",
       "  </thead>\n",
       "  <tbody>\n",
       "    <tr>\n",
       "      <th>0</th>\n",
       "      <td>0</td>\n",
       "      <td>lure</td>\n",
       "      <td>HF</td>\n",
       "      <td>0</td>\n",
       "      <td>1.676</td>\n",
       "      <td>1</td>\n",
       "      <td>0</td>\n",
       "      <td>Long</td>\n",
       "      <td>Immed</td>\n",
       "      <td>b0</td>\n",
       "    </tr>\n",
       "    <tr>\n",
       "      <th>1</th>\n",
       "      <td>1</td>\n",
       "      <td>lure</td>\n",
       "      <td>LF</td>\n",
       "      <td>0</td>\n",
       "      <td>0.913</td>\n",
       "      <td>1</td>\n",
       "      <td>0</td>\n",
       "      <td>Long</td>\n",
       "      <td>Immed</td>\n",
       "      <td>b0</td>\n",
       "    </tr>\n",
       "    <tr>\n",
       "      <th>2</th>\n",
       "      <td>2</td>\n",
       "      <td>lure</td>\n",
       "      <td>HF</td>\n",
       "      <td>0</td>\n",
       "      <td>0.809</td>\n",
       "      <td>1</td>\n",
       "      <td>0</td>\n",
       "      <td>Long</td>\n",
       "      <td>Immed</td>\n",
       "      <td>b0</td>\n",
       "    </tr>\n",
       "    <tr>\n",
       "      <th>3</th>\n",
       "      <td>3</td>\n",
       "      <td>target</td>\n",
       "      <td>HF</td>\n",
       "      <td>1</td>\n",
       "      <td>0.865</td>\n",
       "      <td>1</td>\n",
       "      <td>0</td>\n",
       "      <td>Long</td>\n",
       "      <td>Immed</td>\n",
       "      <td>b0</td>\n",
       "    </tr>\n",
       "    <tr>\n",
       "      <th>4</th>\n",
       "      <td>4</td>\n",
       "      <td>target</td>\n",
       "      <td>LF</td>\n",
       "      <td>1</td>\n",
       "      <td>0.681</td>\n",
       "      <td>1</td>\n",
       "      <td>0</td>\n",
       "      <td>Long</td>\n",
       "      <td>Immed</td>\n",
       "      <td>b0</td>\n",
       "    </tr>\n",
       "  </tbody>\n",
       "</table>\n",
       "</div>"
      ],
      "text/plain": [
       "   trial    type  wf  response     RT  correct  subj length  delay block\n",
       "0      0    lure  HF         0  1.676        1     0   Long  Immed    b0\n",
       "1      1    lure  LF         0  0.913        1     0   Long  Immed    b0\n",
       "2      2    lure  HF         0  0.809        1     0   Long  Immed    b0\n",
       "3      3  target  HF         1  0.865        1     0   Long  Immed    b0\n",
       "4      4  target  LF         1  0.681        1     0   Long  Immed    b0"
      ]
     },
     "execution_count": 4,
     "metadata": {},
     "output_type": "execute_result"
    }
   ],
   "source": [
    "df1=df[(df['length']=='Long') & (df['delay']=='Immed') ]\n",
    "df1.head()"
   ]
  },
  {
   "cell_type": "code",
   "execution_count": 5,
   "metadata": {},
   "outputs": [
    {
     "data": {
      "text/plain": [
       "96"
      ]
     },
     "execution_count": 5,
     "metadata": {},
     "output_type": "execute_result"
    }
   ],
   "source": [
    "len(df1[df1['subj']==0])"
   ]
  },
  {
   "cell_type": "code",
   "execution_count": 6,
   "metadata": {},
   "outputs": [
    {
     "data": {
      "text/html": [
       "<div>\n",
       "<style scoped>\n",
       "    .dataframe tbody tr th:only-of-type {\n",
       "        vertical-align: middle;\n",
       "    }\n",
       "\n",
       "    .dataframe tbody tr th {\n",
       "        vertical-align: top;\n",
       "    }\n",
       "\n",
       "    .dataframe thead th {\n",
       "        text-align: right;\n",
       "    }\n",
       "</style>\n",
       "<table border=\"1\" class=\"dataframe\">\n",
       "  <thead>\n",
       "    <tr style=\"text-align: right;\">\n",
       "      <th></th>\n",
       "      <th>trial</th>\n",
       "      <th>type</th>\n",
       "      <th>wf</th>\n",
       "      <th>response</th>\n",
       "      <th>RT</th>\n",
       "      <th>correct</th>\n",
       "      <th>subj</th>\n",
       "      <th>length</th>\n",
       "      <th>delay</th>\n",
       "      <th>block</th>\n",
       "    </tr>\n",
       "  </thead>\n",
       "  <tbody>\n",
       "    <tr>\n",
       "      <th>0</th>\n",
       "      <td>0</td>\n",
       "      <td>lure</td>\n",
       "      <td>HF</td>\n",
       "      <td>0</td>\n",
       "      <td>1.676</td>\n",
       "      <td>1</td>\n",
       "      <td>0</td>\n",
       "      <td>Long</td>\n",
       "      <td>Immed</td>\n",
       "      <td>b0</td>\n",
       "    </tr>\n",
       "    <tr>\n",
       "      <th>1</th>\n",
       "      <td>1</td>\n",
       "      <td>lure</td>\n",
       "      <td>LF</td>\n",
       "      <td>0</td>\n",
       "      <td>0.913</td>\n",
       "      <td>1</td>\n",
       "      <td>0</td>\n",
       "      <td>Long</td>\n",
       "      <td>Immed</td>\n",
       "      <td>b0</td>\n",
       "    </tr>\n",
       "    <tr>\n",
       "      <th>2</th>\n",
       "      <td>2</td>\n",
       "      <td>lure</td>\n",
       "      <td>HF</td>\n",
       "      <td>0</td>\n",
       "      <td>0.809</td>\n",
       "      <td>1</td>\n",
       "      <td>0</td>\n",
       "      <td>Long</td>\n",
       "      <td>Immed</td>\n",
       "      <td>b0</td>\n",
       "    </tr>\n",
       "    <tr>\n",
       "      <th>3</th>\n",
       "      <td>3</td>\n",
       "      <td>target</td>\n",
       "      <td>HF</td>\n",
       "      <td>1</td>\n",
       "      <td>0.865</td>\n",
       "      <td>1</td>\n",
       "      <td>0</td>\n",
       "      <td>Long</td>\n",
       "      <td>Immed</td>\n",
       "      <td>b0</td>\n",
       "    </tr>\n",
       "    <tr>\n",
       "      <th>4</th>\n",
       "      <td>4</td>\n",
       "      <td>target</td>\n",
       "      <td>LF</td>\n",
       "      <td>1</td>\n",
       "      <td>0.681</td>\n",
       "      <td>1</td>\n",
       "      <td>0</td>\n",
       "      <td>Long</td>\n",
       "      <td>Immed</td>\n",
       "      <td>b0</td>\n",
       "    </tr>\n",
       "  </tbody>\n",
       "</table>\n",
       "</div>"
      ],
      "text/plain": [
       "   trial    type  wf  response     RT  correct  subj length  delay block\n",
       "0      0    lure  HF         0  1.676        1     0   Long  Immed    b0\n",
       "1      1    lure  LF         0  0.913        1     0   Long  Immed    b0\n",
       "2      2    lure  HF         0  0.809        1     0   Long  Immed    b0\n",
       "3      3  target  HF         1  0.865        1     0   Long  Immed    b0\n",
       "4      4  target  LF         1  0.681        1     0   Long  Immed    b0"
      ]
     },
     "execution_count": 6,
     "metadata": {},
     "output_type": "execute_result"
    }
   ],
   "source": [
    "df2=df1[df1['subj']==0] # shakhs aval long immed\n",
    "df2.head()"
   ]
  },
  {
   "cell_type": "code",
   "execution_count": 7,
   "metadata": {},
   "outputs": [
    {
     "data": {
      "text/plain": [
       "[<matplotlib.lines.Line2D at 0x8d4a160>]"
      ]
     },
     "execution_count": 7,
     "metadata": {},
     "output_type": "execute_result"
    },
    {
     "data": {
      "image/png": "[encoded data removed]",
      "text/plain": [
       "<Figure size 432x288 with 1 Axes>"
      ]
     },
     "metadata": {
      "needs_background": "light"
     },
     "output_type": "display_data"
    }
   ],
   "source": [
    "plt.plot(df2['RT'])"
   ]
  },
  {
   "cell_type": "code",
   "execution_count": 8,
   "metadata": {},
   "outputs": [
    {
     "data": {
      "text/plain": [
       "0.8553437509884437"
      ]
     },
     "execution_count": 8,
     "metadata": {},
     "output_type": "execute_result"
    }
   ],
   "source": [
    "df2['RT'].mean()"
   ]
  },
  {
   "cell_type": "code",
   "execution_count": 9,
   "metadata": {},
   "outputs": [
    {
     "data": {
      "text/plain": [
       "0.19694593907542238"
      ]
     },
     "execution_count": 9,
     "metadata": {},
     "output_type": "execute_result"
    }
   ],
   "source": [
    "df2['RT'].std()"
   ]
  },
  {
   "cell_type": "code",
   "execution_count": 10,
   "metadata": {},
   "outputs": [
    {
     "data": {
      "text/plain": [
       "0.8009999990463258"
      ]
     },
     "execution_count": 10,
     "metadata": {},
     "output_type": "execute_result"
    }
   ],
   "source": [
    "df2['RT'].median()"
   ]
  },
  {
   "cell_type": "code",
   "execution_count": 11,
   "metadata": {},
   "outputs": [
    {
     "data": {
      "text/plain": [
       "(0.5609999895095825, 1.6759999990463257)"
      ]
     },
     "execution_count": 11,
     "metadata": {},
     "output_type": "execute_result"
    }
   ],
   "source": [
    "df2['RT'].min(),df2['RT'].max()"
   ]
  },
  {
   "cell_type": "code",
   "execution_count": 12,
   "metadata": {},
   "outputs": [
    {
     "data": {
      "text/plain": [
       "(array([ 0.,  0.,  0.,  0.,  0.,  2., 15., 28., 20., 13.,  9.,  3.,  2.,\n",
       "         1.,  2.,  0.,  1.,  0.,  0.,  0.,  0.,  0.,  0.,  0.,  0.,  0.,\n",
       "         0.,  0.,  0.,  0.,  0.,  0.,  0.,  0.,  0.,  0.,  0.,  0.,  0.,\n",
       "         0.]),\n",
       " array([0. , 0.1, 0.2, 0.3, 0.4, 0.5, 0.6, 0.7, 0.8, 0.9, 1. , 1.1, 1.2,\n",
       "        1.3, 1.4, 1.5, 1.6, 1.7, 1.8, 1.9, 2. , 2.1, 2.2, 2.3, 2.4, 2.5,\n",
       "        2.6, 2.7, 2.8, 2.9, 3. , 3.1, 3.2, 3.3, 3.4, 3.5, 3.6, 3.7, 3.8,\n",
       "        3.9, 4. ]),\n",
       " <a list of 40 Patch objects>)"
      ]
     },
     "execution_count": 12,
     "metadata": {},
     "output_type": "execute_result"
    },
    {
     "data": {
      "image/png": "[encoded data removed]",
      "text/plain": [
       "<Figure size 432x288 with 1 Axes>"
      ]
     },
     "metadata": {
      "needs_background": "light"
     },
     "output_type": "display_data"
    }
   ],
   "source": [
    "plt.hist(df2['RT'],bins=40,range=(0,4))"
   ]
  },
  {
   "cell_type": "code",
   "execution_count": 13,
   "metadata": {
    "scrolled": true
   },
   "outputs": [
    {
     "data": {
      "text/plain": [
       "(array([0.000e+00, 0.000e+00, 0.000e+00, 0.000e+00, 0.000e+00, 2.000e+00,\n",
       "        2.000e+00, 5.000e+00, 6.000e+00, 1.800e+01, 2.700e+01, 3.800e+01,\n",
       "        7.700e+01, 1.920e+02, 4.340e+02, 7.280e+02, 9.890e+02, 1.008e+03,\n",
       "        9.690e+02, 7.950e+02, 7.240e+02, 5.460e+02, 4.460e+02, 3.880e+02,\n",
       "        3.340e+02, 2.820e+02, 2.130e+02, 1.980e+02, 1.520e+02, 1.470e+02,\n",
       "        1.210e+02, 1.340e+02, 1.020e+02, 9.100e+01, 7.500e+01, 8.100e+01,\n",
       "        8.300e+01, 6.200e+01, 6.400e+01, 3.200e+01, 4.700e+01, 5.400e+01,\n",
       "        4.400e+01, 3.400e+01, 2.500e+01, 2.600e+01, 2.900e+01, 2.700e+01,\n",
       "        2.500e+01, 2.000e+01, 2.400e+01, 2.400e+01, 1.900e+01, 1.800e+01,\n",
       "        2.100e+01, 1.900e+01, 2.300e+01, 1.100e+01, 9.000e+00, 2.000e+00,\n",
       "        6.000e+00, 1.400e+01, 4.000e+00, 6.000e+00, 9.000e+00, 1.200e+01,\n",
       "        3.000e+00, 9.000e+00, 7.000e+00, 1.000e+01, 1.000e+01, 6.000e+00,\n",
       "        1.000e+00, 5.000e+00, 3.000e+00, 7.000e+00, 5.000e+00, 4.000e+00,\n",
       "        2.000e+00, 6.000e+00, 3.000e+00, 5.000e+00, 3.000e+00, 3.000e+00,\n",
       "        3.000e+00, 1.000e+00, 4.000e+00, 1.000e+00, 0.000e+00, 2.000e+00,\n",
       "        2.000e+00, 0.000e+00, 4.000e+00, 2.000e+00, 0.000e+00, 2.000e+00,\n",
       "        1.000e+00, 3.000e+00, 3.000e+00, 0.000e+00]),\n",
       " array([0.  , 0.04, 0.08, 0.12, 0.16, 0.2 , 0.24, 0.28, 0.32, 0.36, 0.4 ,\n",
       "        0.44, 0.48, 0.52, 0.56, 0.6 , 0.64, 0.68, 0.72, 0.76, 0.8 , 0.84,\n",
       "        0.88, 0.92, 0.96, 1.  , 1.04, 1.08, 1.12, 1.16, 1.2 , 1.24, 1.28,\n",
       "        1.32, 1.36, 1.4 , 1.44, 1.48, 1.52, 1.56, 1.6 , 1.64, 1.68, 1.72,\n",
       "        1.76, 1.8 , 1.84, 1.88, 1.92, 1.96, 2.  , 2.04, 2.08, 2.12, 2.16,\n",
       "        2.2 , 2.24, 2.28, 2.32, 2.36, 2.4 , 2.44, 2.48, 2.52, 2.56, 2.6 ,\n",
       "        2.64, 2.68, 2.72, 2.76, 2.8 , 2.84, 2.88, 2.92, 2.96, 3.  , 3.04,\n",
       "        3.08, 3.12, 3.16, 3.2 , 3.24, 3.28, 3.32, 3.36, 3.4 , 3.44, 3.48,\n",
       "        3.52, 3.56, 3.6 , 3.64, 3.68, 3.72, 3.76, 3.8 , 3.84, 3.88, 3.92,\n",
       "        3.96, 4.  ]),\n",
       " <a list of 100 Patch objects>)"
      ]
     },
     "execution_count": 13,
     "metadata": {},
     "output_type": "execute_result"
    },
    {
     "data": {
      "image/png": "[encoded data removed]",
      "text/plain": [
       "<Figure size 432x288 with 1 Axes>"
      ]
     },
     "metadata": {
      "needs_background": "light"
     },
     "output_type": "display_data"
    }
   ],
   "source": [
    "plt.hist(df1['RT'],bins=100,range=(0,4))"
   ]
  },
  {
   "cell_type": "code",
   "execution_count": 14,
   "metadata": {},
   "outputs": [
    {
     "data": {
      "text/plain": [
       "(0.20900000631809235, 11.001999855041504)"
      ]
     },
     "execution_count": 14,
     "metadata": {},
     "output_type": "execute_result"
    }
   ],
   "source": [
    "df1['RT'].min(),df1['RT'].max()"
   ]
  },
  {
   "cell_type": "code",
   "execution_count": 15,
   "metadata": {},
   "outputs": [
    {
     "data": {
      "text/plain": [
       "(0.9370041860955132, 0.521953931120607, 0.7929999828338623)"
      ]
     },
     "execution_count": 15,
     "metadata": {},
     "output_type": "execute_result"
    }
   ],
   "source": [
    "df1['RT'].mean(),df1['RT'].std(),df1['RT'].median()"
   ]
  },
  {
   "cell_type": "code",
   "execution_count": 16,
   "metadata": {},
   "outputs": [],
   "source": [
    "A=0\n",
    "P=np.zeros(96)\n",
    "for i in range (96):\n",
    "    if df2['correct'][i]==1:\n",
    "        A+=1/96\n",
    "        P[i]=A\n",
    "    else:\n",
    "        P[i]=A\n",
    "        "
   ]
  },
  {
   "cell_type": "code",
   "execution_count": 17,
   "metadata": {},
   "outputs": [
    {
     "data": {
      "text/plain": [
       "[<matplotlib.lines.Line2D at 0x8ff5240>]"
      ]
     },
     "execution_count": 17,
     "metadata": {},
     "output_type": "execute_result"
    },
    {
     "data": {
      "image/png": "[encoded data removed]",
      "text/plain": [
       "<Figure size 432x288 with 1 Axes>"
      ]
     },
     "metadata": {
      "needs_background": "light"
     },
     "output_type": "display_data"
    }
   ],
   "source": [
    "plt.plot(P) # ehtemal dorost goftan baraye shakhse aval halate long immed "
   ]
  },
  {
   "cell_type": "code",
   "execution_count": 18,
   "metadata": {},
   "outputs": [
    {
     "data": {
      "text/plain": [
       "87"
      ]
     },
     "execution_count": 18,
     "metadata": {},
     "output_type": "execute_result"
    }
   ],
   "source": [
    "len(df2[df2['correct']==1]) # "
   ]
  },
  {
   "cell_type": "code",
   "execution_count": 19,
   "metadata": {},
   "outputs": [
    {
     "data": {
      "text/html": [
       "<div>\n",
       "<style scoped>\n",
       "    .dataframe tbody tr th:only-of-type {\n",
       "        vertical-align: middle;\n",
       "    }\n",
       "\n",
       "    .dataframe tbody tr th {\n",
       "        vertical-align: top;\n",
       "    }\n",
       "\n",
       "    .dataframe thead th {\n",
       "        text-align: right;\n",
       "    }\n",
       "</style>\n",
       "<table border=\"1\" class=\"dataframe\">\n",
       "  <thead>\n",
       "    <tr style=\"text-align: right;\">\n",
       "      <th></th>\n",
       "      <th>trial</th>\n",
       "      <th>type</th>\n",
       "      <th>wf</th>\n",
       "      <th>response</th>\n",
       "      <th>RT</th>\n",
       "      <th>correct</th>\n",
       "      <th>subj</th>\n",
       "      <th>length</th>\n",
       "      <th>delay</th>\n",
       "      <th>block</th>\n",
       "    </tr>\n",
       "  </thead>\n",
       "  <tbody>\n",
       "    <tr>\n",
       "      <th>10920</th>\n",
       "      <td>0</td>\n",
       "      <td>lure</td>\n",
       "      <td>LF</td>\n",
       "      <td>0</td>\n",
       "      <td>5.301</td>\n",
       "      <td>1</td>\n",
       "      <td>45</td>\n",
       "      <td>Long</td>\n",
       "      <td>Immed</td>\n",
       "      <td>b0</td>\n",
       "    </tr>\n",
       "    <tr>\n",
       "      <th>10921</th>\n",
       "      <td>1</td>\n",
       "      <td>target</td>\n",
       "      <td>LF</td>\n",
       "      <td>1</td>\n",
       "      <td>1.929</td>\n",
       "      <td>1</td>\n",
       "      <td>45</td>\n",
       "      <td>Long</td>\n",
       "      <td>Immed</td>\n",
       "      <td>b0</td>\n",
       "    </tr>\n",
       "    <tr>\n",
       "      <th>10922</th>\n",
       "      <td>2</td>\n",
       "      <td>lure</td>\n",
       "      <td>HF</td>\n",
       "      <td>0</td>\n",
       "      <td>1.617</td>\n",
       "      <td>1</td>\n",
       "      <td>45</td>\n",
       "      <td>Long</td>\n",
       "      <td>Immed</td>\n",
       "      <td>b0</td>\n",
       "    </tr>\n",
       "    <tr>\n",
       "      <th>10923</th>\n",
       "      <td>3</td>\n",
       "      <td>target</td>\n",
       "      <td>LF</td>\n",
       "      <td>1</td>\n",
       "      <td>0.921</td>\n",
       "      <td>1</td>\n",
       "      <td>45</td>\n",
       "      <td>Long</td>\n",
       "      <td>Immed</td>\n",
       "      <td>b0</td>\n",
       "    </tr>\n",
       "    <tr>\n",
       "      <th>10924</th>\n",
       "      <td>4</td>\n",
       "      <td>target</td>\n",
       "      <td>HF</td>\n",
       "      <td>0</td>\n",
       "      <td>0.681</td>\n",
       "      <td>0</td>\n",
       "      <td>45</td>\n",
       "      <td>Long</td>\n",
       "      <td>Immed</td>\n",
       "      <td>b0</td>\n",
       "    </tr>\n",
       "  </tbody>\n",
       "</table>\n",
       "</div>"
      ],
      "text/plain": [
       "       trial    type  wf  response     RT  correct  subj length  delay block\n",
       "10920      0    lure  LF         0  5.301        1    45   Long  Immed    b0\n",
       "10921      1  target  LF         1  1.929        1    45   Long  Immed    b0\n",
       "10922      2    lure  HF         0  1.617        1    45   Long  Immed    b0\n",
       "10923      3  target  LF         1  0.921        1    45   Long  Immed    b0\n",
       "10924      4  target  HF         0  0.681        0    45   Long  Immed    b0"
      ]
     },
     "execution_count": 19,
     "metadata": {},
     "output_type": "execute_result"
    }
   ],
   "source": [
    "df3=df1[df1['subj']==45]\n",
    "df3.head()\n"
   ]
  },
  {
   "cell_type": "code",
   "execution_count": 69,
   "metadata": {},
   "outputs": [
    {
     "data": {
      "text/plain": [
       "[<matplotlib.lines.Line2D at 0xbf40ac8>]"
      ]
     },
     "execution_count": 69,
     "metadata": {},
     "output_type": "execute_result"
    },
    {
     "data": {
      "image/png": "[encoded data removed]",
      "text/plain": [
       "<Figure size 432x288 with 1 Axes>"
      ]
     },
     "metadata": {
      "needs_background": "light"
     },
     "output_type": "display_data"
    }
   ],
   "source": [
    "A1=0\n",
    "P1=np.zeros(96)\n",
    "for i1 in range (96):\n",
    "    if df3['correct'][i1+10920]==1:\n",
    "        A1+=1/96\n",
    "        P1[i1]=A1\n",
    "    else:\n",
    "        P1[i1]=A1\n",
    "plt.plot(P1) # shakhs 45 long immed nemodar abi\n",
    "plt.plot(P) #shakhs 0 long immed nemodar narenji\n"
   ]
  },
  {
   "cell_type": "code",
   "execution_count": 21,
   "metadata": {},
   "outputs": [],
   "source": [
    "DF1=df[(df['length']=='Long') & (df['delay']=='Delay') ]"
   ]
  },
  {
   "cell_type": "code",
   "execution_count": 22,
   "metadata": {},
   "outputs": [
    {
     "data": {
      "text/html": [
       "<div>\n",
       "<style scoped>\n",
       "    .dataframe tbody tr th:only-of-type {\n",
       "        vertical-align: middle;\n",
       "    }\n",
       "\n",
       "    .dataframe tbody tr th {\n",
       "        vertical-align: top;\n",
       "    }\n",
       "\n",
       "    .dataframe thead th {\n",
       "        text-align: right;\n",
       "    }\n",
       "</style>\n",
       "<table border=\"1\" class=\"dataframe\">\n",
       "  <thead>\n",
       "    <tr style=\"text-align: right;\">\n",
       "      <th></th>\n",
       "      <th>trial</th>\n",
       "      <th>type</th>\n",
       "      <th>wf</th>\n",
       "      <th>response</th>\n",
       "      <th>RT</th>\n",
       "      <th>correct</th>\n",
       "      <th>subj</th>\n",
       "      <th>length</th>\n",
       "      <th>delay</th>\n",
       "      <th>block</th>\n",
       "    </tr>\n",
       "  </thead>\n",
       "  <tbody>\n",
       "    <tr>\n",
       "      <th>96</th>\n",
       "      <td>0</td>\n",
       "      <td>target</td>\n",
       "      <td>LF</td>\n",
       "      <td>1</td>\n",
       "      <td>1.348</td>\n",
       "      <td>1</td>\n",
       "      <td>0</td>\n",
       "      <td>Long</td>\n",
       "      <td>Delay</td>\n",
       "      <td>b0</td>\n",
       "    </tr>\n",
       "    <tr>\n",
       "      <th>97</th>\n",
       "      <td>1</td>\n",
       "      <td>lure</td>\n",
       "      <td>LF</td>\n",
       "      <td>0</td>\n",
       "      <td>0.873</td>\n",
       "      <td>1</td>\n",
       "      <td>0</td>\n",
       "      <td>Long</td>\n",
       "      <td>Delay</td>\n",
       "      <td>b0</td>\n",
       "    </tr>\n",
       "    <tr>\n",
       "      <th>98</th>\n",
       "      <td>2</td>\n",
       "      <td>lure</td>\n",
       "      <td>HF</td>\n",
       "      <td>1</td>\n",
       "      <td>1.201</td>\n",
       "      <td>0</td>\n",
       "      <td>0</td>\n",
       "      <td>Long</td>\n",
       "      <td>Delay</td>\n",
       "      <td>b0</td>\n",
       "    </tr>\n",
       "    <tr>\n",
       "      <th>99</th>\n",
       "      <td>3</td>\n",
       "      <td>lure</td>\n",
       "      <td>HF</td>\n",
       "      <td>0</td>\n",
       "      <td>0.650</td>\n",
       "      <td>1</td>\n",
       "      <td>0</td>\n",
       "      <td>Long</td>\n",
       "      <td>Delay</td>\n",
       "      <td>b0</td>\n",
       "    </tr>\n",
       "    <tr>\n",
       "      <th>100</th>\n",
       "      <td>4</td>\n",
       "      <td>lure</td>\n",
       "      <td>LF</td>\n",
       "      <td>0</td>\n",
       "      <td>0.873</td>\n",
       "      <td>1</td>\n",
       "      <td>0</td>\n",
       "      <td>Long</td>\n",
       "      <td>Delay</td>\n",
       "      <td>b0</td>\n",
       "    </tr>\n",
       "  </tbody>\n",
       "</table>\n",
       "</div>"
      ],
      "text/plain": [
       "     trial    type  wf  response     RT  correct  subj length  delay block\n",
       "96       0  target  LF         1  1.348        1     0   Long  Delay    b0\n",
       "97       1    lure  LF         0  0.873        1     0   Long  Delay    b0\n",
       "98       2    lure  HF         1  1.201        0     0   Long  Delay    b0\n",
       "99       3    lure  HF         0  0.650        1     0   Long  Delay    b0\n",
       "100      4    lure  LF         0  0.873        1     0   Long  Delay    b0"
      ]
     },
     "execution_count": 22,
     "metadata": {},
     "output_type": "execute_result"
    }
   ],
   "source": [
    "DF2=DF1[DF1['subj']==0]  #avalin shakhs va delay long\n",
    "DF2.head()"
   ]
  },
  {
   "cell_type": "code",
   "execution_count": 23,
   "metadata": {},
   "outputs": [],
   "source": [
    "A0=0\n",
    "P0=np.zeros(96)\n",
    "for i0 in range (96):\n",
    "    if DF2['correct'][i0+96]==1:\n",
    "        A0+=1/96\n",
    "        P0[i0]=A0\n",
    "    else:\n",
    "        P0[i0]=A0"
   ]
  },
  {
   "cell_type": "code",
   "execution_count": 24,
   "metadata": {},
   "outputs": [
    {
     "data": {
      "text/html": [
       "<div>\n",
       "<style scoped>\n",
       "    .dataframe tbody tr th:only-of-type {\n",
       "        vertical-align: middle;\n",
       "    }\n",
       "\n",
       "    .dataframe tbody tr th {\n",
       "        vertical-align: top;\n",
       "    }\n",
       "\n",
       "    .dataframe thead th {\n",
       "        text-align: right;\n",
       "    }\n",
       "</style>\n",
       "<table border=\"1\" class=\"dataframe\">\n",
       "  <thead>\n",
       "    <tr style=\"text-align: right;\">\n",
       "      <th></th>\n",
       "      <th>trial</th>\n",
       "      <th>type</th>\n",
       "      <th>wf</th>\n",
       "      <th>response</th>\n",
       "      <th>RT</th>\n",
       "      <th>correct</th>\n",
       "      <th>subj</th>\n",
       "      <th>length</th>\n",
       "      <th>delay</th>\n",
       "      <th>block</th>\n",
       "    </tr>\n",
       "  </thead>\n",
       "  <tbody>\n",
       "    <tr>\n",
       "      <th>10800</th>\n",
       "      <td>0</td>\n",
       "      <td>lure</td>\n",
       "      <td>HF</td>\n",
       "      <td>0</td>\n",
       "      <td>3.469</td>\n",
       "      <td>1</td>\n",
       "      <td>45</td>\n",
       "      <td>Long</td>\n",
       "      <td>Delay</td>\n",
       "      <td>b0</td>\n",
       "    </tr>\n",
       "    <tr>\n",
       "      <th>10801</th>\n",
       "      <td>1</td>\n",
       "      <td>target</td>\n",
       "      <td>HF</td>\n",
       "      <td>0</td>\n",
       "      <td>0.906</td>\n",
       "      <td>0</td>\n",
       "      <td>45</td>\n",
       "      <td>Long</td>\n",
       "      <td>Delay</td>\n",
       "      <td>b0</td>\n",
       "    </tr>\n",
       "    <tr>\n",
       "      <th>10802</th>\n",
       "      <td>2</td>\n",
       "      <td>lure</td>\n",
       "      <td>LF</td>\n",
       "      <td>0</td>\n",
       "      <td>0.594</td>\n",
       "      <td>1</td>\n",
       "      <td>45</td>\n",
       "      <td>Long</td>\n",
       "      <td>Delay</td>\n",
       "      <td>b0</td>\n",
       "    </tr>\n",
       "    <tr>\n",
       "      <th>10803</th>\n",
       "      <td>3</td>\n",
       "      <td>target</td>\n",
       "      <td>HF</td>\n",
       "      <td>0</td>\n",
       "      <td>0.513</td>\n",
       "      <td>0</td>\n",
       "      <td>45</td>\n",
       "      <td>Long</td>\n",
       "      <td>Delay</td>\n",
       "      <td>b0</td>\n",
       "    </tr>\n",
       "    <tr>\n",
       "      <th>10804</th>\n",
       "      <td>4</td>\n",
       "      <td>target</td>\n",
       "      <td>LF</td>\n",
       "      <td>0</td>\n",
       "      <td>0.521</td>\n",
       "      <td>0</td>\n",
       "      <td>45</td>\n",
       "      <td>Long</td>\n",
       "      <td>Delay</td>\n",
       "      <td>b0</td>\n",
       "    </tr>\n",
       "  </tbody>\n",
       "</table>\n",
       "</div>"
      ],
      "text/plain": [
       "       trial    type  wf  response     RT  correct  subj length  delay block\n",
       "10800      0    lure  HF         0  3.469        1    45   Long  Delay    b0\n",
       "10801      1  target  HF         0  0.906        0    45   Long  Delay    b0\n",
       "10802      2    lure  LF         0  0.594        1    45   Long  Delay    b0\n",
       "10803      3  target  HF         0  0.513        0    45   Long  Delay    b0\n",
       "10804      4  target  LF         0  0.521        0    45   Long  Delay    b0"
      ]
     },
     "execution_count": 24,
     "metadata": {},
     "output_type": "execute_result"
    }
   ],
   "source": [
    "DF3=DF1[DF1['subj']==45]\n",
    "DF3.head()\n"
   ]
  },
  {
   "cell_type": "code",
   "execution_count": 25,
   "metadata": {},
   "outputs": [],
   "source": [
    "A3=0\n",
    "P3=np.zeros(96)\n",
    "for i3 in range (96):\n",
    "    if DF3['correct'][i3+10800]==1:\n",
    "        A3+=1/96\n",
    "        P3[i3]=A3\n",
    "    else:\n",
    "        P3[i3]=A3"
   ]
  },
  {
   "cell_type": "code",
   "execution_count": 26,
   "metadata": {},
   "outputs": [
    {
     "data": {
      "text/plain": [
       "[<matplotlib.lines.Line2D at 0xa078eb8>]"
      ]
     },
     "execution_count": 26,
     "metadata": {},
     "output_type": "execute_result"
    },
    {
     "data": {
      "image/png": "[encoded data removed]",
      "text/plain": [
       "<Figure size 432x288 with 1 Axes>"
      ]
     },
     "metadata": {
      "needs_background": "light"
     },
     "output_type": "display_data"
    }
   ],
   "source": [
    "plt.plot(P0) # shakhs 0 delay long\n",
    "plt.plot(P3) # shakhs 45 delay long"
   ]
  },
  {
   "cell_type": "code",
   "execution_count": 27,
   "metadata": {},
   "outputs": [
    {
     "data": {
      "text/plain": [
       "73"
      ]
     },
     "execution_count": 27,
     "metadata": {},
     "output_type": "execute_result"
    }
   ],
   "source": [
    "len(DF2[DF2['correct']==1])"
   ]
  },
  {
   "cell_type": "code",
   "execution_count": 28,
   "metadata": {},
   "outputs": [],
   "source": [
    "H=np.zeros(106)\n",
    "for j in range(106):\n",
    "    H[j]=len(df1[(df1['subj']==j) & (df1['correct']==1)])\n",
    "    "
   ]
  },
  {
   "cell_type": "code",
   "execution_count": 29,
   "metadata": {},
   "outputs": [
    {
     "data": {
      "text/plain": [
       "(array([ 2.,  0.,  0.,  0.,  0.,  1.,  1.,  1.,  2.,  2.,  2.,  5.,  6.,\n",
       "         4.,  3.,  5., 10.,  8., 12.,  8.,  9.,  9.,  6.,  7.,  3.]),\n",
       " array([50. , 51.8, 53.6, 55.4, 57.2, 59. , 60.8, 62.6, 64.4, 66.2, 68. ,\n",
       "        69.8, 71.6, 73.4, 75.2, 77. , 78.8, 80.6, 82.4, 84.2, 86. , 87.8,\n",
       "        89.6, 91.4, 93.2, 95. ]),\n",
       " <a list of 25 Patch objects>)"
      ]
     },
     "execution_count": 29,
     "metadata": {},
     "output_type": "execute_result"
    },
    {
     "data": {
      "image/png": "[encoded data removed]",
      "text/plain": [
       "<Figure size 432x288 with 1 Axes>"
      ]
     },
     "metadata": {
      "needs_background": "light"
     },
     "output_type": "display_data"
    }
   ],
   "source": [
    "plt.hist(H,bins=25)"
   ]
  },
  {
   "cell_type": "code",
   "execution_count": 30,
   "metadata": {},
   "outputs": [
    {
     "data": {
      "text/plain": [
       "(array([21, 47], dtype=int64),)"
      ]
     },
     "execution_count": 30,
     "metadata": {},
     "output_type": "execute_result"
    }
   ],
   "source": [
    "np.where(H == 94)"
   ]
  },
  {
   "cell_type": "code",
   "execution_count": 31,
   "metadata": {},
   "outputs": [],
   "source": [
    "H1=np.zeros(106)\n",
    "for j1 in range(106):\n",
    "    H1[j1]=len(DF1[(DF1['subj']==j1) & (DF1['correct']==1)])"
   ]
  },
  {
   "cell_type": "code",
   "execution_count": 32,
   "metadata": {},
   "outputs": [
    {
     "data": {
      "text/plain": [
       "(array([ 1.,  0.,  2.,  0.,  0.,  2.,  3.,  1.,  1.,  0.,  4.,  3., 10.,\n",
       "         5.,  4.,  7., 15.,  6.,  7.,  6., 15.,  1.,  5.,  3.,  5.]),\n",
       " array([48. , 49.8, 51.6, 53.4, 55.2, 57. , 58.8, 60.6, 62.4, 64.2, 66. ,\n",
       "        67.8, 69.6, 71.4, 73.2, 75. , 76.8, 78.6, 80.4, 82.2, 84. , 85.8,\n",
       "        87.6, 89.4, 91.2, 93. ]),\n",
       " <a list of 25 Patch objects>)"
      ]
     },
     "execution_count": 32,
     "metadata": {},
     "output_type": "execute_result"
    },
    {
     "data": {
      "image/png": "[encoded data removed]",
      "text/plain": [
       "<Figure size 432x288 with 1 Axes>"
      ]
     },
     "metadata": {
      "needs_background": "light"
     },
     "output_type": "display_data"
    }
   ],
   "source": [
    "plt.hist(H1,bins=25)"
   ]
  },
  {
   "cell_type": "code",
   "execution_count": 33,
   "metadata": {},
   "outputs": [
    {
     "data": {
      "text/plain": [
       "<BarContainer object of 106 artists>"
      ]
     },
     "execution_count": 33,
     "metadata": {},
     "output_type": "execute_result"
    },
    {
     "data": {
      "image/png": "[encoded data removed]",
      "text/plain": [
       "<Figure size 432x288 with 1 Axes>"
      ]
     },
     "metadata": {
      "needs_background": "light"
     },
     "output_type": "display_data"
    }
   ],
   "source": [
    "\n",
    "import matplotlib.pyplot as plt1\n",
    "R=np.arange(106)\n",
    "plt1.bar(R,H1)"
   ]
  },
  {
   "cell_type": "code",
   "execution_count": 34,
   "metadata": {},
   "outputs": [
    {
     "data": {
      "text/plain": [
       "(77.12264150943396, 78.0, 9.21514629966962)"
      ]
     },
     "execution_count": 34,
     "metadata": {},
     "output_type": "execute_result"
    }
   ],
   "source": [
    "H1.mean(),np.median(H1),H1.std()"
   ]
  },
  {
   "cell_type": "code",
   "execution_count": 35,
   "metadata": {},
   "outputs": [
    {
     "data": {
      "text/plain": [
       "(array([45], dtype=int64),)"
      ]
     },
     "execution_count": 35,
     "metadata": {},
     "output_type": "execute_result"
    }
   ],
   "source": [
    "np.where(H1 == 48)"
   ]
  },
  {
   "cell_type": "code",
   "execution_count": 36,
   "metadata": {
    "scrolled": true
   },
   "outputs": [
    {
     "data": {
      "text/plain": [
       "[<matplotlib.lines.Line2D at 0xa223978>]"
      ]
     },
     "execution_count": 36,
     "metadata": {},
     "output_type": "execute_result"
    },
    {
     "data": {
      "image/png": "[encoded data removed]",
      "text/plain": [
       "<Figure size 432x288 with 1 Axes>"
      ]
     },
     "metadata": {
      "needs_background": "light"
     },
     "output_type": "display_data"
    }
   ],
   "source": [
    "plt.plot(P,'o') #shakhs 0 long immed\n",
    "plt.plot(P0,'ro') # shakhs 0 long delay"
   ]
  },
  {
   "cell_type": "code",
   "execution_count": 37,
   "metadata": {},
   "outputs": [
    {
     "data": {
      "text/plain": [
       "[<matplotlib.lines.Line2D at 0xa08ba58>]"
      ]
     },
     "execution_count": 37,
     "metadata": {},
     "output_type": "execute_result"
    },
    {
     "data": {
      "image/png": "[encoded data removed]",
      "text/plain": [
       "<Figure size 432x288 with 1 Axes>"
      ]
     },
     "metadata": {
      "needs_background": "light"
     },
     "output_type": "display_data"
    }
   ],
   "source": [
    "plt.plot(P1,'o') # shakhs 45 long immed\n",
    "plt.plot(P3,'ro') # shakhs 45 long delay"
   ]
  }
 ],
 "metadata": {
  "kernelspec": {
   "display_name": "Python 3",
   "language": "python",
   "name": "python3"
  },
  "language_info": {
   "codemirror_mode": {
    "name": "ipython",
    "version": 3
   },
   "file_extension": ".py",
   "mimetype": "text/x-python",
   "name": "python",
   "nbconvert_exporter": "python",
   "pygments_lexer": "ipython3",
   "version": "3.7.0"
  }
 },
 "nbformat": 4,
 "nbformat_minor": 2
}
